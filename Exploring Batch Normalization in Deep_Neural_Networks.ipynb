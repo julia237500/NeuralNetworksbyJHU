{
 "cells": [
  {
   "cell_type": "markdown",
   "id": "b2ad4f82",
   "metadata": {},
   "source": [
    "<p align=\"center\">\n",
    "    <img src=\"JHU.png\" width=\"200\" alt=\"Johns Hopkins University logo\">\n",
    "</p>"
   ]
  },
  {
   "cell_type": "markdown",
   "id": "f0415d39",
   "metadata": {},
   "source": [
    "# Hands-on Lab: Exploring Batch Normalization in Deep Neural Networks\n",
    "\n",
    "Estimated time needed: **60** minutes"
   ]
  },
  {
   "cell_type": "markdown",
   "id": "ccd5a77a",
   "metadata": {},
   "source": [
    "## Overview:\n",
    "\n",
    "Batch normalization is a crucial technique in deep learning that accelerates training and improves the performance of deep neural networks. This lab provides a hands-on experience implementing batch normalization in a deep learning model using popular frameworks like TensorFlow or PyTorch. You will train a model on a dataset with and without batch normalization, comparing their training convergence speeds and generalization performances.\n",
    "\n",
    "\n",
    "\n",
    "## Objectives\n",
    "\n",
    "By the end of this lab, you will:\n",
    "\n",
    "- Understand the concept and benefits of batch normalization.\n",
    "- Implement batch normalization in a deep neural network.\n",
    "- Compare training performance with and without batch normalization.\n",
    "- Visualize and interpret the results to understand its impact on model convergence and generalization."
   ]
  },
  {
   "cell_type": "markdown",
   "id": "12076a2a",
   "metadata": {},
   "source": [
    "## Dataset Description\n",
    "\n",
    "We will use the Fashion MNIST dataset, a popular dataset comprising 60,000 training images and 10,000 testing images of grayscale images representing 10 fashion categories (e.g., T-shirts, sneakers, bags). Each image is 28x28 pixels.\n",
    "\n",
    "**Dataset Details**:\n",
    "- Input features: 28x28 grayscale images (flattened to 784 features).\n",
    "- Output labels: 10 classes, e.g., T-shirt/top, trouser, pullover.\n"
   ]
  },
  {
   "cell_type": "markdown",
   "id": "a5cff208",
   "metadata": {},
   "source": [
    "## Assignment Tasks"
   ]
  },
  {
   "cell_type": "markdown",
   "id": "2010445b",
   "metadata": {},
   "source": [
    "### Step 1: Install and Import Necessary Libraries"
   ]
  },
  {
   "cell_type": "markdown",
   "id": "147b0e24",
   "metadata": {},
   "source": [
    "> **Note**: Please ignore any warnings that appear during execution; they will not affect the correctness of your code or the upcoming tasks."
   ]
  },
  {
   "cell_type": "code",
   "execution_count": 1,
   "id": "4a52b4d5",
   "metadata": {},
   "outputs": [
    {
     "name": "stdout",
     "output_type": "stream",
     "text": [
      "Requirement already satisfied: tensorflow in /usr/local/lib/python3.11/dist-packages (2.14.0)\n",
      "Requirement already satisfied: numpy in /usr/local/lib/python3.11/dist-packages (1.26.0)\n",
      "Requirement already satisfied: matplotlib in /usr/local/lib/python3.11/dist-packages (3.8.0)\n",
      "Requirement already satisfied: absl-py>=1.0.0 in /usr/local/lib/python3.11/dist-packages (from tensorflow) (2.0.0)\n",
      "Requirement already satisfied: astunparse>=1.6.0 in /usr/local/lib/python3.11/dist-packages (from tensorflow) (1.6.3)\n",
      "Requirement already satisfied: flatbuffers>=23.5.26 in /usr/local/lib/python3.11/dist-packages (from tensorflow) (23.5.26)\n",
      "Requirement already satisfied: gast!=0.5.0,!=0.5.1,!=0.5.2,>=0.2.1 in /usr/local/lib/python3.11/dist-packages (from tensorflow) (0.5.4)\n",
      "Requirement already satisfied: google-pasta>=0.1.1 in /usr/local/lib/python3.11/dist-packages (from tensorflow) (0.2.0)\n",
      "Requirement already satisfied: h5py>=2.9.0 in /usr/local/lib/python3.11/dist-packages (from tensorflow) (3.9.0)\n",
      "Requirement already satisfied: libclang>=13.0.0 in /usr/local/lib/python3.11/dist-packages (from tensorflow) (16.0.6)\n",
      "Requirement already satisfied: ml-dtypes==0.2.0 in /usr/local/lib/python3.11/dist-packages (from tensorflow) (0.2.0)\n",
      "Requirement already satisfied: opt-einsum>=2.3.2 in /usr/local/lib/python3.11/dist-packages (from tensorflow) (3.3.0)\n",
      "Requirement already satisfied: packaging in /usr/local/lib/python3.11/dist-packages (from tensorflow) (23.1)\n",
      "Requirement already satisfied: protobuf!=4.21.0,!=4.21.1,!=4.21.2,!=4.21.3,!=4.21.4,!=4.21.5,<5.0.0dev,>=3.20.3 in /usr/local/lib/python3.11/dist-packages (from tensorflow) (4.24.3)\n",
      "Requirement already satisfied: setuptools in /usr/local/lib/python3.11/dist-packages (from tensorflow) (68.2.2)\n",
      "Requirement already satisfied: six>=1.12.0 in /usr/lib/python3/dist-packages (from tensorflow) (1.16.0)\n",
      "Requirement already satisfied: termcolor>=1.1.0 in /usr/local/lib/python3.11/dist-packages (from tensorflow) (2.3.0)\n",
      "Requirement already satisfied: typing-extensions>=3.6.6 in /usr/local/lib/python3.11/dist-packages (from tensorflow) (4.8.0)\n",
      "Requirement already satisfied: wrapt<1.15,>=1.11.0 in /usr/local/lib/python3.11/dist-packages (from tensorflow) (1.14.1)\n",
      "Requirement already satisfied: tensorflow-io-gcs-filesystem>=0.23.1 in /usr/local/lib/python3.11/dist-packages (from tensorflow) (0.34.0)\n",
      "Requirement already satisfied: grpcio<2.0,>=1.24.3 in /usr/local/lib/python3.11/dist-packages (from tensorflow) (1.58.0)\n",
      "Requirement already satisfied: tensorboard<2.15,>=2.14 in /usr/local/lib/python3.11/dist-packages (from tensorflow) (2.14.0)\n",
      "Requirement already satisfied: tensorflow-estimator<2.15,>=2.14.0 in /usr/local/lib/python3.11/dist-packages (from tensorflow) (2.14.0)\n",
      "Requirement already satisfied: keras<2.15,>=2.14.0 in /usr/local/lib/python3.11/dist-packages (from tensorflow) (2.14.0)\n",
      "Requirement already satisfied: contourpy>=1.0.1 in /usr/local/lib/python3.11/dist-packages (from matplotlib) (1.1.1)\n",
      "Requirement already satisfied: cycler>=0.10 in /usr/local/lib/python3.11/dist-packages (from matplotlib) (0.11.0)\n",
      "Requirement already satisfied: fonttools>=4.22.0 in /usr/local/lib/python3.11/dist-packages (from matplotlib) (4.42.1)\n",
      "Requirement already satisfied: kiwisolver>=1.0.1 in /usr/local/lib/python3.11/dist-packages (from matplotlib) (1.4.5)\n",
      "Requirement already satisfied: pillow>=6.2.0 in /usr/local/lib/python3.11/dist-packages (from matplotlib) (10.0.1)\n",
      "Requirement already satisfied: pyparsing>=2.3.1 in /usr/lib/python3/dist-packages (from matplotlib) (2.4.7)\n",
      "Requirement already satisfied: python-dateutil>=2.7 in /usr/local/lib/python3.11/dist-packages (from matplotlib) (2.8.2)\n",
      "Requirement already satisfied: wheel<1.0,>=0.23.0 in /usr/local/lib/python3.11/dist-packages (from astunparse>=1.6.0->tensorflow) (0.41.2)\n",
      "Requirement already satisfied: google-auth<3,>=1.6.3 in /usr/local/lib/python3.11/dist-packages (from tensorboard<2.15,>=2.14->tensorflow) (2.23.1)\n",
      "Requirement already satisfied: google-auth-oauthlib<1.1,>=0.5 in /usr/local/lib/python3.11/dist-packages (from tensorboard<2.15,>=2.14->tensorflow) (1.0.0)\n",
      "Requirement already satisfied: markdown>=2.6.8 in /usr/local/lib/python3.11/dist-packages (from tensorboard<2.15,>=2.14->tensorflow) (3.4.4)\n",
      "Requirement already satisfied: requests<3,>=2.21.0 in /usr/local/lib/python3.11/dist-packages (from tensorboard<2.15,>=2.14->tensorflow) (2.31.0)\n",
      "Requirement already satisfied: tensorboard-data-server<0.8.0,>=0.7.0 in /usr/local/lib/python3.11/dist-packages (from tensorboard<2.15,>=2.14->tensorflow) (0.7.1)\n",
      "Requirement already satisfied: werkzeug>=1.0.1 in /usr/local/lib/python3.11/dist-packages (from tensorboard<2.15,>=2.14->tensorflow) (2.3.7)\n",
      "Requirement already satisfied: cachetools<6.0,>=2.0.0 in /usr/local/lib/python3.11/dist-packages (from google-auth<3,>=1.6.3->tensorboard<2.15,>=2.14->tensorflow) (5.3.1)\n",
      "Requirement already satisfied: pyasn1-modules>=0.2.1 in /usr/local/lib/python3.11/dist-packages (from google-auth<3,>=1.6.3->tensorboard<2.15,>=2.14->tensorflow) (0.3.0)\n",
      "Requirement already satisfied: rsa<5,>=3.1.4 in /usr/local/lib/python3.11/dist-packages (from google-auth<3,>=1.6.3->tensorboard<2.15,>=2.14->tensorflow) (4.9)\n",
      "Requirement already satisfied: urllib3>=2.0.5 in /usr/local/lib/python3.11/dist-packages (from google-auth<3,>=1.6.3->tensorboard<2.15,>=2.14->tensorflow) (2.0.5)\n",
      "Requirement already satisfied: requests-oauthlib>=0.7.0 in /usr/local/lib/python3.11/dist-packages (from google-auth-oauthlib<1.1,>=0.5->tensorboard<2.15,>=2.14->tensorflow) (1.3.1)\n",
      "Requirement already satisfied: charset-normalizer<4,>=2 in /usr/local/lib/python3.11/dist-packages (from requests<3,>=2.21.0->tensorboard<2.15,>=2.14->tensorflow) (3.2.0)\n",
      "Requirement already satisfied: idna<4,>=2.5 in /usr/local/lib/python3.11/dist-packages (from requests<3,>=2.21.0->tensorboard<2.15,>=2.14->tensorflow) (3.4)\n",
      "Requirement already satisfied: certifi>=2017.4.17 in /usr/local/lib/python3.11/dist-packages (from requests<3,>=2.21.0->tensorboard<2.15,>=2.14->tensorflow) (2023.7.22)\n",
      "Requirement already satisfied: MarkupSafe>=2.1.1 in /usr/local/lib/python3.11/dist-packages (from werkzeug>=1.0.1->tensorboard<2.15,>=2.14->tensorflow) (2.1.3)\n",
      "Requirement already satisfied: pyasn1<0.6.0,>=0.4.6 in /usr/local/lib/python3.11/dist-packages (from pyasn1-modules>=0.2.1->google-auth<3,>=1.6.3->tensorboard<2.15,>=2.14->tensorflow) (0.5.0)\n",
      "Requirement already satisfied: oauthlib>=3.0.0 in /usr/lib/python3/dist-packages (from requests-oauthlib>=0.7.0->google-auth-oauthlib<1.1,>=0.5->tensorboard<2.15,>=2.14->tensorflow) (3.2.0)\n",
      "\u001b[33mWARNING: Running pip as the 'root' user can result in broken permissions and conflicting behaviour with the system package manager, possibly rendering your system unusable.It is recommended to use a virtual environment instead: https://pip.pypa.io/warnings/venv. Use the --root-user-action option if you know what you are doing and want to suppress this warning.\u001b[0m\u001b[33m\n",
      "\u001b[0m\n",
      "\u001b[1m[\u001b[0m\u001b[34;49mnotice\u001b[0m\u001b[1;39;49m]\u001b[0m\u001b[39;49m A new release of pip is available: \u001b[0m\u001b[31;49m24.2\u001b[0m\u001b[39;49m -> \u001b[0m\u001b[32;49m25.1.1\u001b[0m\n",
      "\u001b[1m[\u001b[0m\u001b[34;49mnotice\u001b[0m\u001b[1;39;49m]\u001b[0m\u001b[39;49m To update, run: \u001b[0m\u001b[32;49mpython -m pip install --upgrade pip\u001b[0m\n"
     ]
    }
   ],
   "source": [
    "# Install necessary libraries (if not already installed)\n",
    "!pip install tensorflow numpy matplotlib\n",
    "\n",
    "# Import required libraries\n",
    "import tensorflow as tf\n",
    "from tensorflow.keras.datasets import fashion_mnist\n",
    "import matplotlib.pyplot as plt\n",
    "import numpy as np"
   ]
  },
  {
   "cell_type": "markdown",
   "id": "5bd26fa1",
   "metadata": {},
   "source": [
    "### Task 2: Data Preprocessing and Visualization for Fashion MNIST Dataset"
   ]
  },
  {
   "cell_type": "code",
   "execution_count": 2,
   "id": "1d7ad4e1",
   "metadata": {},
   "outputs": [
    {
     "name": "stdout",
     "output_type": "stream",
     "text": [
      "Downloading data from https://storage.googleapis.com/tensorflow/tf-keras-datasets/train-labels-idx1-ubyte.gz\n",
      "29515/29515 [==============================] - 0s 0us/step\n",
      "Downloading data from https://storage.googleapis.com/tensorflow/tf-keras-datasets/train-images-idx3-ubyte.gz\n",
      "26421880/26421880 [==============================] - 0s 0us/step\n",
      "Downloading data from https://storage.googleapis.com/tensorflow/tf-keras-datasets/t10k-labels-idx1-ubyte.gz\n",
      "5148/5148 [==============================] - 0s 0us/step\n",
      "Downloading data from https://storage.googleapis.com/tensorflow/tf-keras-datasets/t10k-images-idx3-ubyte.gz\n",
      "4422102/4422102 [==============================] - 0s 0us/step\n"
     ]
    },
    {
     "data": {
      "image/png": "[encoded data removed]",
      "text/plain": [
       "<Figure size 640x480 with 1 Axes>"
      ]
     },
     "metadata": {},
     "output_type": "display_data"
    }
   ],
   "source": [
    "# Load the Fashion MNIST dataset\n",
    "(X_train, y_train), (X_test, y_test) = fashion_mnist.load_data()\n",
    "\n",
    "# Normalize the data to the range [0, 1]\n",
    "X_train, X_test = X_train / 255.0, X_test / 255.0\n",
    "\n",
    "# Flatten the data\n",
    "X_train = X_train.reshape(-1, 28 * 28)\n",
    "X_test = X_test.reshape(-1, 28 * 28)\n",
    "\n",
    "\n",
    "\n",
    "# Display a sample image\n",
    "plt.imshow(X_train[0].reshape(28, 28), cmap=\"gray\")\n",
    "plt.title(f\"Class Label: {y_train[0]}\")\n",
    "plt.show()\n",
    "\n"
   ]
  },
  {
   "cell_type": "markdown",
   "id": "9278c6c1",
   "metadata": {},
   "source": [
    "**Explanation**: \n",
    "\n",
    "- **Load the Fashion MNIST Dataset**: This step loads the training and test datasets, including both the images and their associated class labels.\n",
    "- **Normalize the Data to the Range [0, 1]**: The pixel values are scaled from [0, 255] to [0, 1] to improve the performance and stability of the model during training.\n",
    "- **Flatten the Data**: The 28x28 pixel images are reshaped into 1D vectors of size 784, making them suitable for use in machine learning models.\n",
    "- **Display a Sample Image**: A sample image from the training set is displayed with its class label for visualization."
   ]
  },
  {
   "cell_type": "markdown",
   "id": "3a3c55f0",
   "metadata": {},
   "source": [
    "<details>\n",
    "    <summary>Click here to view/hide the solution.</summary>\n",
    "    \n",
    "```python\n",
    "\n",
    "# Flatten the data\n",
    "X_train = X_train.reshape(-1, 28 * 28)\n",
    "X_test = X_test.reshape(-1, 28 * 28)\n",
    "\n",
    "# Display a sample image\n",
    "plt.imshow(X_train[0].reshape(28, 28), cmap=\"gray\")\n",
    "plt.title(f\"Class Label: {y_train[0]}\")\n",
    "plt.show()\n",
    "```\n",
    "</details>"
   ]
  },
  {
   "cell_type": "markdown",
   "id": "0b416ce5",
   "metadata": {},
   "source": [
    "## Task 3: Define and Train the Model Without Batch Normalization"
   ]
  },
  {
   "cell_type": "markdown",
   "id": "664f9b8f",
   "metadata": {},
   "source": [
    "> **Note**:\n",
    "The code provided defines and trains a neural network model without batch normalization. Depending on the computational resources and dataset size, training the model may take some time. Be patient, as training deep learning models can be time-intensive, especially without optimizations like batch normalization."
   ]
  },
  {
   "cell_type": "code",
   "execution_count": 3,
   "id": "b354af67",
   "metadata": {},
   "outputs": [
    {
     "name": "stdout",
     "output_type": "stream",
     "text": [
      "Epoch 1/10\n",
      "1875/1875 [==============================] - 6s 2ms/step - loss: 0.4958 - accuracy: 0.8252 - val_loss: 0.4535 - val_accuracy: 0.8398\n",
      "Epoch 2/10\n",
      "1875/1875 [==============================] - 4s 2ms/step - loss: 0.3661 - accuracy: 0.8656 - val_loss: 0.4010 - val_accuracy: 0.8534\n",
      "Epoch 3/10\n",
      "1875/1875 [==============================] - 4s 2ms/step - loss: 0.3285 - accuracy: 0.8784 - val_loss: 0.3874 - val_accuracy: 0.8552\n",
      "Epoch 4/10\n",
      "1875/1875 [==============================] - 4s 2ms/step - loss: 0.3059 - accuracy: 0.8867 - val_loss: 0.3539 - val_accuracy: 0.8701\n",
      "Epoch 5/10\n",
      "1875/1875 [==============================] - 4s 2ms/step - loss: 0.2904 - accuracy: 0.8920 - val_loss: 0.3468 - val_accuracy: 0.8750\n",
      "Epoch 6/10\n",
      "1875/1875 [==============================] - 4s 2ms/step - loss: 0.2755 - accuracy: 0.8971 - val_loss: 0.3413 - val_accuracy: 0.8771\n",
      "Epoch 7/10\n",
      "1875/1875 [==============================] - 4s 2ms/step - loss: 0.2644 - accuracy: 0.9001 - val_loss: 0.3738 - val_accuracy: 0.8717\n",
      "Epoch 8/10\n",
      "1875/1875 [==============================] - 4s 2ms/step - loss: 0.2553 - accuracy: 0.9041 - val_loss: 0.3308 - val_accuracy: 0.8820\n",
      "Epoch 9/10\n",
      "1875/1875 [==============================] - 4s 2ms/step - loss: 0.2452 - accuracy: 0.9072 - val_loss: 0.3474 - val_accuracy: 0.8780\n",
      "Epoch 10/10\n",
      "1875/1875 [==============================] - 4s 2ms/step - loss: 0.2379 - accuracy: 0.9102 - val_loss: 0.3338 - val_accuracy: 0.8845\n"
     ]
    }
   ],
   "source": [
    "from tensorflow.keras.models import Sequential\n",
    "from tensorflow.keras.layers import Dense\n",
    "\n",
    "# Define the model without batch normalization\n",
    "model_without_bn = Sequential([\n",
    "    Dense(128, activation='relu', input_shape=(784,)),\n",
    "    Dense(64, activation='relu'),\n",
    "    Dense(10, activation='softmax')\n",
    "])\n",
    "\n",
    "# Compile the model\n",
    "model_without_bn.compile(optimizer='adam',\n",
    "                         loss='sparse_categorical_crossentropy',\n",
    "                         metrics=['accuracy'])\n",
    "\n",
    "\n",
    "\n",
    "\n",
    "# Train the model\n",
    "history_without_bn = model_without_bn.fit(\n",
    "    X_train, y_train,\n",
    "    validation_data=(X_test, y_test),\n",
    "    epochs=10,\n",
    "    batch_size=32\n",
    ")\n",
    "\n",
    "\n"
   ]
  },
  {
   "cell_type": "markdown",
   "id": "970c529d",
   "metadata": {},
   "source": [
    "**Explanation**:\n",
    "\n",
    "In this step, you build a basic neural network without batch normalization. This model serves as the baseline for comparison, allowing us to observe how training progresses without normalization of activations between layers."
   ]
  },
  {
   "cell_type": "markdown",
   "id": "d6e062d3",
   "metadata": {},
   "source": [
    "<details>\n",
    "    <summary>Click here to view/hide the solution.</summary>\n",
    "    \n",
    "```python\n",
    "    \n",
    "# Compile the model\n",
    "model_without_bn.compile(optimizer='adam',\n",
    "                         loss='sparse_categorical_crossentropy',\n",
    "                         metrics=['accuracy'])\n",
    "\n",
    "# Train the model\n",
    "history_without_bn = model_without_bn.fit(\n",
    "    X_train, y_train,\n",
    "    validation_data=(X_test, y_test),\n",
    "    epochs=10,\n",
    "    batch_size=32\n",
    ")\n",
    "\n",
    "    \n",
    "```\n",
    "</details>"
   ]
  },
  {
   "cell_type": "markdown",
   "id": "b5bee64b",
   "metadata": {},
   "source": [
    "### Task 4: Define and Train the Model With Batch Normalization\n",
    "\n"
   ]
  },
  {
   "cell_type": "markdown",
   "id": "1d4dbe0b",
   "metadata": {},
   "source": [
    "> **Note**:\n",
    "This code compiles the model using the Adam optimizer and sparse categorical cross-entropy loss, then trains it for 10 epochs with a batch size of 32. The training may take some time depending on your system's resources."
   ]
  },
  {
   "cell_type": "code",
   "execution_count": 4,
   "id": "4427f64c",
   "metadata": {},
   "outputs": [
    {
     "name": "stdout",
     "output_type": "stream",
     "text": [
      "Epoch 1/10\n",
      "1875/1875 [==============================] - 7s 3ms/step - loss: 0.4909 - accuracy: 0.8271 - val_loss: 0.4279 - val_accuracy: 0.8488\n",
      "Epoch 2/10\n",
      "1875/1875 [==============================] - 5s 3ms/step - loss: 0.3895 - accuracy: 0.8592 - val_loss: 0.4379 - val_accuracy: 0.8386\n",
      "Epoch 3/10\n",
      "1875/1875 [==============================] - 5s 3ms/step - loss: 0.3641 - accuracy: 0.8669 - val_loss: 0.3761 - val_accuracy: 0.8644\n",
      "Epoch 4/10\n",
      "1875/1875 [==============================] - 5s 3ms/step - loss: 0.3374 - accuracy: 0.8766 - val_loss: 0.3731 - val_accuracy: 0.8637\n",
      "Epoch 5/10\n",
      "1875/1875 [==============================] - 5s 3ms/step - loss: 0.3245 - accuracy: 0.8798 - val_loss: 0.3803 - val_accuracy: 0.8645\n",
      "Epoch 6/10\n",
      "1875/1875 [==============================] - 5s 3ms/step - loss: 0.3117 - accuracy: 0.8855 - val_loss: 0.3699 - val_accuracy: 0.8645\n",
      "Epoch 7/10\n",
      "1875/1875 [==============================] - 5s 3ms/step - loss: 0.2972 - accuracy: 0.8907 - val_loss: 0.3834 - val_accuracy: 0.8649\n",
      "Epoch 8/10\n",
      "1875/1875 [==============================] - 5s 3ms/step - loss: 0.2881 - accuracy: 0.8941 - val_loss: 0.3700 - val_accuracy: 0.8671\n",
      "Epoch 9/10\n",
      "1875/1875 [==============================] - 5s 3ms/step - loss: 0.2797 - accuracy: 0.8955 - val_loss: 0.3399 - val_accuracy: 0.8807\n",
      "Epoch 10/10\n",
      "1875/1875 [==============================] - 5s 3ms/step - loss: 0.2718 - accuracy: 0.8987 - val_loss: 0.3650 - val_accuracy: 0.8692\n"
     ]
    }
   ],
   "source": [
    "from tensorflow.keras.layers import BatchNormalization\n",
    "\n",
    "# Define the model with batch normalization\n",
    "model_with_bn = Sequential([\n",
    "    Dense(128, activation='relu', input_shape=(784,)),\n",
    "    BatchNormalization(),\n",
    "    Dense(64, activation='relu'),\n",
    "    BatchNormalization(),\n",
    "    Dense(10, activation='softmax')\n",
    "])\n",
    "\n",
    "# Note that batch normalization is typically applied to the input layer and hidden layers, not the output layer. \n",
    "# Why it's applied to hidden layers:\n",
    "# - Stabilizes and normalizes the activations during training.\n",
    "# - Reduces internal covariate shift, making the training faster and more stable.\n",
    "\n",
    "# Why it's not applied to the output layer:\n",
    "# The output layer (especially in classification) often uses an activation function like softmax or sigmoid, \n",
    "# which maps values into a specific output range (e.g., probabilities).\n",
    "# Hence, applying batch normalization after that would distort the output distribution, making the final predictions invalid.\n",
    "\n",
    "# Compile the model\n",
    "model_with_bn.compile(optimizer='adam',\n",
    "                      loss='sparse_categorical_crossentropy',\n",
    "                      metrics=['accuracy'])\n",
    "\n",
    "# Train the model\n",
    "history_with_bn = model_with_bn.fit(\n",
    "    X_train, y_train,\n",
    "    validation_data=(X_test, y_test),\n",
    "    epochs=10,\n",
    "    batch_size=32\n",
    ")\n",
    "\n",
    "\n",
    "\n"
   ]
  },
  {
   "cell_type": "markdown",
   "id": "a204ebf0",
   "metadata": {},
   "source": [
    "**Explanation**:\n",
    "\n",
    "Batch normalization layers are added to the architecture. These layers normalize the activations of each layer, reducing internal covariate shift and potentially improving training speed and stability."
   ]
  },
  {
   "cell_type": "markdown",
   "id": "43ea1c75",
   "metadata": {},
   "source": [
    "<details>\n",
    "    <summary>Click here to view/hide the solution.</summary>\n",
    "    \n",
    "```python\n",
    "\n",
    "# Compile the model\n",
    "model_with_bn.compile(optimizer='adam',\n",
    "                      loss='sparse_categorical_crossentropy',\n",
    "                      metrics=['accuracy'])\n",
    "\n",
    "# Train the model\n",
    "history_with_bn = model_with_bn.fit(\n",
    "    X_train, y_train,\n",
    "    validation_data=(X_test, y_test),\n",
    "    epochs=10,\n",
    "    batch_size=32\n",
    ")\n",
    "    \n",
    "```\n",
    "</details>"
   ]
  },
  {
   "cell_type": "markdown",
   "id": "b79496d4",
   "metadata": {},
   "source": [
    "### Task 5: Compare Training Convergence Speeds"
   ]
  },
  {
   "cell_type": "code",
   "execution_count": 5,
   "id": "bc903e9d",
   "metadata": {},
   "outputs": [
    {
     "data": {
      "image/png": "[encoded data removed]",
      "text/plain": [
       "<Figure size 640x480 with 1 Axes>"
      ]
     },
     "metadata": {},
     "output_type": "display_data"
    }
   ],
   "source": [
    "# Plot training loss\n",
    "plt.plot(history_without_bn.history['loss'], label='Without Batch Norm')\n",
    "plt.plot(history_with_bn.history['loss'], label='With Batch Norm')\n",
    "plt.title('Training Loss Comparison')\n",
    "plt.xlabel('Epochs')\n",
    "plt.ylabel('Loss')\n",
    "plt.legend()\n",
    "plt.show()\n",
    "    \n",
    "\n",
    "\n"
   ]
  },
  {
   "cell_type": "markdown",
   "id": "8f124351",
   "metadata": {},
   "source": [
    "Take note that WITH batch norm, you should observe the following:\n",
    "     - Smoother loss curve (less noisy)\n",
    "     - Faster convergence (loss drops more quickly)\n",
    "     - Lower final loss (better training and generalization)\n",
    "\n",
    "The curve:\n",
    "- Steadily decreases\n",
    "- Has fewer bumps or oscillations\n",
    "- Plateaus at a lower value\n",
    "\n",
    "However, the plot tells a different story from what we theoretically expect. The plausible reasons for why this is so is stated below, at the end of this IPYNB, but the TLDR is that the Fashion dataset is not complex enough, and the Adam optimiser was used for both with batch norm and without, which might reduce the observable benefits of batch normalization because Adam already adapts learning rates effectively. The observable benefits of using batch norm would be more obvious for more complex datasets."
   ]
  },
  {
   "cell_type": "markdown",
   "id": "197c1ead",
   "metadata": {},
   "source": [
    "**Explanation**:\n",
    "\n",
    "The training loss of both models is plotted to compare convergence speeds. Batch normalization typically results in smoother loss curves and faster convergence, especially in deeper or more complex networks."
   ]
  },
  {
   "cell_type": "markdown",
   "id": "477c3236",
   "metadata": {},
   "source": [
    "<details>\n",
    "    <summary>Click here to view/hide the solution.</summary>\n",
    "    \n",
    "```python\n",
    "    \n",
    "# Plot training loss\n",
    "plt.plot(history_without_bn.history['loss'], label='Without Batch Norm')\n",
    "plt.plot(history_with_bn.history['loss'], label='With Batch Norm')\n",
    "plt.title('Training Loss Comparison')\n",
    "plt.xlabel('Epochs')\n",
    "plt.ylabel('Loss')\n",
    "plt.legend()\n",
    "plt.show()\n",
    "    \n",
    "```\n",
    "</details>"
   ]
  },
  {
   "cell_type": "markdown",
   "id": "e88eb79b",
   "metadata": {},
   "source": [
    "### Task 6: Evaluate Generalization Performance\n",
    "\n"
   ]
  },
  {
   "cell_type": "code",
   "execution_count": null,
   "id": "35be1b46",
   "metadata": {},
   "outputs": [],
   "source": [
    "# Evaluate both models on the test dataset\n",
    "test_loss_without_bn, test_acc_without_bn = model_without_bn.evaluate(X_test, y_test, verbose=0)\n",
    "test_loss_with_bn, test_acc_with_bn = model_with_bn.evaluate(X_test, y_test, verbose=0)\n",
    "\n",
    "# Print the test accuracy for the model both with and without batch normalization for comparison\n",
    "print(f\"Test Accuracy Without Batch Norm: {test_acc_without_bn:.4f}\")\n",
    "print(f\"Test Accuracy With Batch Norm: {test_acc_with_bn:.4f}\")\n",
    "\n",
    "\n"
   ]
  },
  {
   "cell_type": "markdown",
   "id": "458dd7d4",
   "metadata": {},
   "source": [
    "<details>\n",
    "    <summary>Click here to view/hide the solution.</summary>\n",
    "    \n",
    "```python\n",
    "\n",
    "print(f\"Test Accuracy Without Batch Norm: {test_acc_without_bn:.4f}\")\n",
    "print(f\"Test Accuracy With Batch Norm: {test_acc_with_bn:.4f}\")\n",
    "    \n",
    "```\n",
    "</details>"
   ]
  },
  {
   "cell_type": "markdown",
   "id": "dcecb6ea",
   "metadata": {},
   "source": [
    "**Explanation**:\n",
    "\n",
    "The models are evaluated on the test set to measure their generalization ability. This step highlights whether batch normalization improves the model's performance on unseen data, focusing on stability and potential overfitting."
   ]
  },
  {
   "cell_type": "markdown",
   "id": "73896c40",
   "metadata": {},
   "source": [
    "### Explaination of outcome:\n",
    "\n",
    "---\n",
    "\n",
    "#### **1. Batch Normalization's Purpose**\n",
    "Start by reinforcing the **primary purpose** of batch normalization:\n",
    "- **Faster Training Convergence**: It helps models train faster by normalizing inputs to each layer.\n",
    "- **Regularization Effect**: It can reduce overfitting by adding noise to layer activations during training.\n",
    "\n",
    "Even if the final accuracies are similar, batch normalization might still have improved the **training process** (e.g., smoother convergence or reduced epochs to achieve similar accuracy).\n",
    "\n",
    "---\n",
    "\n",
    "#### **2. Analyze Training Behavior**\n",
    "Encourage you to compare **training curves** (loss/accuracy over epochs). Explain these possibilities:\n",
    "- **Convergence Speed**: Did the model with batch normalization converge faster?\n",
    "- **Smoothness**: Is the loss/accuracy curve smoother for the batch-normalized model, indicating more stable training?\n",
    "  \n",
    "If the curves are nearly identical, emphasize that **batch normalization's benefits are more apparent in deeper networks** or with more complex datasets.\n",
    "\n",
    "---\n",
    "\n",
    "#### **3. Factors Influencing Batch Normalization's Impact**\n",
    "Why the results might be similar:\n",
    "- **Model Architecture**: The current model is relatively shallow. Batch normalization is more effective in **very deep networks**.\n",
    "- **Dataset Simplicity**: Fashion MNIST is a manageable dataset. Batch normalization's advantages become clearer with **more complex datasets** or highly imbalanced data.\n",
    "- **Optimizer**: Using Adam (a robust optimizer) might reduce the observable benefits of batch normalization because Adam already adapts learning rates effectively.\n",
    "\n",
    "---\n",
    "\n",
    "#### **4. Highlight Generalization Insight**\n",
    "Why test accuracy might not differ much:\n",
    "- **Model Capacity**: Both models have sufficient capacity to learn Fashion MNIST. Adding batch normalization didn’t significantly alter this.\n",
    "- **Overfitting**: Batch normalization acts as a regularizer. However, the dataset may not be complex enough to showcase overfitting issues that batch normalization could mitigate.\n",
    "\n",
    "---\n",
    "\n",
    "#### **5. Encourage Further Exploration**\n",
    "Opportunities to explore:\n",
    "1. **Increase Model Depth**: Add more layers and observe if batch normalization improves performance.\n",
    "2. **Use a Complex Dataset**: Try datasets complex datasets, where batch normalization often shows a greater effect.\n",
    "3. **Alter Hyperparameters**: Experiment with learning rates, optimizers, or dropout alongside batch normalization."
   ]
  },
  {
   "cell_type": "markdown",
   "id": "095f7d14",
   "metadata": {},
   "source": [
    "### Key Takeaways\n",
    "\n",
    "- Batch normalization helps in faster convergence during training.\n",
    "- It improves generalization by reducing overfitting, especially in deeper networks.\n",
    "- Training with batch normalization results in more stable and consistent gradients."
   ]
  },
  {
   "cell_type": "markdown",
   "id": "90e5fec0",
   "metadata": {},
   "source": [
    "### Summary:\n",
    "\n",
    "In this lab, you implemented and compared a deep neural network with and without batch normalization. By analyzing training losses and test accuracies, you observed the impact of batch normalization on convergence speed and generalization performance. This foundational knowledge is crucial for designing efficient and robust neural network architectures in real-world applications."
   ]
  }
 ],
 "metadata": {
  "kernelspec": {
   "display_name": "Python 3 (ipykernel)",
   "language": "python",
   "name": "python3"
  },
  "language_info": {
   "codemirror_mode": {
    "name": "ipython",
    "version": 3
   },
   "file_extension": ".py",
   "mimetype": "text/x-python",
   "name": "python",
   "nbconvert_exporter": "python",
   "pygments_lexer": "ipython3",
   "version": "3.11.0rc1"
  }
 },
 "nbformat": 4,
 "nbformat_minor": 5
}
